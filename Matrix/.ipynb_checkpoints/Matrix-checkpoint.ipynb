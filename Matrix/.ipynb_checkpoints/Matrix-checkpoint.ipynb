{
 "cells": [
  {
   "cell_type": "code",
   "execution_count": 5,
   "metadata": {},
   "outputs": [],
   "source": [
    "# -*- coding: utf-8 -*-\n",
    "\"\"\"\n",
    "Created on Wed Sep 12 22:25:05 2018\n",
    "\n",
    "@author: hashimoto\n",
    "\"\"\"\n",
    "# https://note.nkmk.me/python-numpy-matrix/\n",
    "\n",
    "import numpy as np"
   ]
  },
  {
   "cell_type": "code",
   "execution_count": 6,
   "metadata": {},
   "outputs": [
    {
     "name": "stdout",
     "output_type": "stream",
     "text": [
      "[[0 1 2]\n",
      " [3 4 5]]\n",
      "[[ 0  2  4]\n",
      " [ 6  8 10]]\n",
      "[[ 0  3  6]\n",
      " [ 9 12 15]]\n",
      "[[ 0 -1 -2]\n",
      " [-3 -4 -5]]\n",
      "[[ 0  3  6]\n",
      " [ 9 12 15]]\n",
      "[[ 0 -1 -2]\n",
      " [-3 -4 -5]]\n"
     ]
    }
   ],
   "source": [
    "# 行列の和と差\n",
    "arr1 = np.arange(6).reshape((2, 3))\n",
    "\n",
    "print(arr1)\n",
    "# [[0 1 2]\n",
    "#  [3 4 5]]\n",
    "\n",
    "arr2 = np.arange(0, 12, 2).reshape((2, 3))\n",
    "\n",
    "print(arr2)\n",
    "# [[ 0  2  4]\n",
    "#  [ 6  8 10]]\n",
    "\n",
    "arr_sum = arr1 + arr2\n",
    "\n",
    "print(arr_sum)\n",
    "# [[ 0  3  6]\n",
    "#  [ 9 12 15]]\n",
    "\n",
    "arr_sub = arr1 - arr2\n",
    "\n",
    "print(arr_sub)\n",
    "# [[ 0 -1 -2]\n",
    "#  [-3 -4 -5]]\n",
    "\n",
    "mat1 = np.matrix(arr1)\n",
    "mat2 = np.matrix(arr2)\n",
    "\n",
    "mat_sum = mat1 + mat2\n",
    "\n",
    "print(mat_sum)\n",
    "# [[ 0  3  6]\n",
    "#  [ 9 12 15]]\n",
    "\n",
    "mat_sub = mat1 - mat2\n",
    "\n",
    "print(mat_sub)\n",
    "# [[ 0 -1 -2]\n",
    "#  [-3 -4 -5]]"
   ]
  },
  {
   "cell_type": "code",
   "execution_count": 7,
   "metadata": {
    "scrolled": true
   },
   "outputs": [
    {
     "name": "stdout",
     "output_type": "stream",
     "text": [
      "[[ 0  2  4]\n",
      " [ 6  8 10]]\n",
      "[[ 0  2  4]\n",
      " [ 6  8 10]]\n"
     ]
    }
   ],
   "source": [
    "# スカラー倍\n",
    "arr_mul = arr1 * 2\n",
    "\n",
    "print(arr_mul)\n",
    "# [[ 0  2  4]\n",
    "#  [ 6  8 10]]\n",
    "\n",
    "mat_mul = mat1 * 2\n",
    "\n",
    "print(mat_mul)\n",
    "# [[ 0  2  4]\n",
    "#  [ 6  8 10]]"
   ]
  },
  {
   "cell_type": "code",
   "execution_count": 8,
   "metadata": {},
   "outputs": [
    {
     "ename": "ValueError",
     "evalue": "shapes (2,3) and (2,3) not aligned: 3 (dim 1) != 2 (dim 0)",
     "output_type": "error",
     "traceback": [
      "\u001b[1;31m---------------------------------------------------------------------------\u001b[0m",
      "\u001b[1;31mValueError\u001b[0m                                Traceback (most recent call last)",
      "\u001b[1;32m<ipython-input-8-9c2fe47cbb8d>\u001b[0m in \u001b[0;36m<module>\u001b[1;34m()\u001b[0m\n\u001b[0;32m      1\u001b[0m \u001b[1;31m# 行列の積\u001b[0m\u001b[1;33m\u001b[0m\u001b[1;33m\u001b[0m\u001b[0m\n\u001b[1;32m----> 2\u001b[1;33m \u001b[0mmat_mul_matrix\u001b[0m \u001b[1;33m=\u001b[0m \u001b[0mmat1\u001b[0m \u001b[1;33m*\u001b[0m \u001b[0mmat2\u001b[0m\u001b[1;33m\u001b[0m\u001b[0m\n\u001b[0m\u001b[0;32m      3\u001b[0m \u001b[1;33m\u001b[0m\u001b[0m\n\u001b[0;32m      4\u001b[0m \u001b[0mprint\u001b[0m\u001b[1;33m(\u001b[0m\u001b[0mmat_mul_matrix\u001b[0m\u001b[1;33m)\u001b[0m\u001b[1;33m\u001b[0m\u001b[0m\n",
      "\u001b[1;32mC:\\ProgramData\\Anaconda3\\lib\\site-packages\\numpy\\matrixlib\\defmatrix.py\u001b[0m in \u001b[0;36m__mul__\u001b[1;34m(self, other)\u001b[0m\n\u001b[0;32m    307\u001b[0m         \u001b[1;32mif\u001b[0m \u001b[0misinstance\u001b[0m\u001b[1;33m(\u001b[0m\u001b[0mother\u001b[0m\u001b[1;33m,\u001b[0m \u001b[1;33m(\u001b[0m\u001b[0mN\u001b[0m\u001b[1;33m.\u001b[0m\u001b[0mndarray\u001b[0m\u001b[1;33m,\u001b[0m \u001b[0mlist\u001b[0m\u001b[1;33m,\u001b[0m \u001b[0mtuple\u001b[0m\u001b[1;33m)\u001b[0m\u001b[1;33m)\u001b[0m \u001b[1;33m:\u001b[0m\u001b[1;33m\u001b[0m\u001b[0m\n\u001b[0;32m    308\u001b[0m             \u001b[1;31m# This promotes 1-D vectors to row vectors\u001b[0m\u001b[1;33m\u001b[0m\u001b[1;33m\u001b[0m\u001b[0m\n\u001b[1;32m--> 309\u001b[1;33m             \u001b[1;32mreturn\u001b[0m \u001b[0mN\u001b[0m\u001b[1;33m.\u001b[0m\u001b[0mdot\u001b[0m\u001b[1;33m(\u001b[0m\u001b[0mself\u001b[0m\u001b[1;33m,\u001b[0m \u001b[0masmatrix\u001b[0m\u001b[1;33m(\u001b[0m\u001b[0mother\u001b[0m\u001b[1;33m)\u001b[0m\u001b[1;33m)\u001b[0m\u001b[1;33m\u001b[0m\u001b[0m\n\u001b[0m\u001b[0;32m    310\u001b[0m         \u001b[1;32mif\u001b[0m \u001b[0misscalar\u001b[0m\u001b[1;33m(\u001b[0m\u001b[0mother\u001b[0m\u001b[1;33m)\u001b[0m \u001b[1;32mor\u001b[0m \u001b[1;32mnot\u001b[0m \u001b[0mhasattr\u001b[0m\u001b[1;33m(\u001b[0m\u001b[0mother\u001b[0m\u001b[1;33m,\u001b[0m \u001b[1;34m'__rmul__'\u001b[0m\u001b[1;33m)\u001b[0m \u001b[1;33m:\u001b[0m\u001b[1;33m\u001b[0m\u001b[0m\n\u001b[0;32m    311\u001b[0m             \u001b[1;32mreturn\u001b[0m \u001b[0mN\u001b[0m\u001b[1;33m.\u001b[0m\u001b[0mdot\u001b[0m\u001b[1;33m(\u001b[0m\u001b[0mself\u001b[0m\u001b[1;33m,\u001b[0m \u001b[0mother\u001b[0m\u001b[1;33m)\u001b[0m\u001b[1;33m\u001b[0m\u001b[0m\n",
      "\u001b[1;31mValueError\u001b[0m: shapes (2,3) and (2,3) not aligned: 3 (dim 1) != 2 (dim 0)"
     ]
    }
   ],
   "source": [
    "# 行列の積\n",
    "mat_mul_matrix = mat1 * mat2\n",
    "\n",
    "print(mat_mul_matrix)"
   ]
  },
  {
   "cell_type": "code",
   "execution_count": 9,
   "metadata": {},
   "outputs": [
    {
     "name": "stdout",
     "output_type": "stream",
     "text": [
      "[[19 22]\n",
      " [43 50]]\n",
      "[[19 22]\n",
      " [43 50]]\n",
      "[[19 22]\n",
      " [43 50]]\n",
      "[[19 22]\n",
      " [43 50]]\n"
     ]
    }
   ],
   "source": [
    "# 行列の積\n",
    "a = np.array([[1, 2], [3, 4]])\n",
    "b = np.array([[5, 6], [7, 8]])\n",
    "\n",
    "print(a@b)  # 行列積\n",
    "print(np.matmul(a, b))  # 行列積\n",
    "print(a.dot(b))  # 内積\n",
    "print(np.dot(a, b))  #  内積\n"
   ]
  },
  {
   "cell_type": "code",
   "execution_count": 10,
   "metadata": {},
   "outputs": [
    {
     "name": "stdout",
     "output_type": "stream",
     "text": [
      "[17 39]\n",
      "[17 39]\n",
      "[17 39]\n",
      "[17 39]\n"
     ]
    }
   ],
   "source": [
    "# 行列とベクトルの積\n",
    "import numpy\n",
    "\n",
    "a = numpy.array([[1, 2], [3, 4]])\n",
    "b = numpy.array([5, 6])\n",
    "\n",
    "print(a@b)\n",
    "print(a.dot(b))\n",
    "print(numpy.dot(a, b))\n",
    "print(numpy.matmul(a, b))\n"
   ]
  },
  {
   "cell_type": "code",
   "execution_count": 11,
   "metadata": {},
   "outputs": [],
   "source": [
    "# べき乗"
   ]
  },
  {
   "cell_type": "code",
   "execution_count": 12,
   "metadata": {},
   "outputs": [
    {
     "name": "stdout",
     "output_type": "stream",
     "text": [
      "[[-0.98793539 -1.28924596  1.28284019]\n",
      " [ 1.28236287  1.9319968  -0.98867998]\n",
      " [-1.06910303  0.13194571 -0.82150889]\n",
      " [-2.01424943  0.60695083  0.96772534]\n",
      " [-0.85739394  0.28300189 -1.01530244]\n",
      " [ 1.18445239  0.37926564  1.44725975]]\n",
      "[[-0.98793539  1.28236287 -1.06910303 -2.01424943 -0.85739394  1.18445239]\n",
      " [-1.28924596  1.9319968   0.13194571  0.60695083  0.28300189  0.37926564]\n",
      " [ 1.28284019 -0.98867998 -0.82150889  0.96772534 -1.01530244  1.44725975]]\n",
      "[[ 9.95870476  2.59417674 -1.02144784]\n",
      " [ 2.59417674  6.00449825 -2.82349258]\n",
      " [-1.02144784 -2.82349258  7.3599361 ]]\n"
     ]
    }
   ],
   "source": [
    "# 内積\n",
    "arr = np.random.randn(6,3)\n",
    "print(arr)\n",
    "print(arr.T)\n",
    "print(np.dot(arr.T,arr))\n"
   ]
  },
  {
   "cell_type": "code",
   "execution_count": 13,
   "metadata": {},
   "outputs": [],
   "source": [
    "# 逆行列"
   ]
  },
  {
   "cell_type": "code",
   "execution_count": 14,
   "metadata": {},
   "outputs": [
    {
     "name": "stdout",
     "output_type": "stream",
     "text": [
      "[[ 0  1  2  3  4]\n",
      " [ 5  6  7  8  9]\n",
      " [10 11 12 13 14]]\n",
      "[[ 0  5 10]\n",
      " [ 1  6 11]\n",
      " [ 2  7 12]\n",
      " [ 3  8 13]\n",
      " [ 4  9 14]]\n"
     ]
    }
   ],
   "source": [
    "# 転置\n",
    "arr = np.array([[0,1,2,3,4],[5,6,7,8,9],[10,11,12,13,14]])\n",
    "print(arr)\n",
    "print(arr.T)"
   ]
  },
  {
   "cell_type": "code",
   "execution_count": 15,
   "metadata": {},
   "outputs": [],
   "source": [
    "# 行列式"
   ]
  },
  {
   "cell_type": "code",
   "execution_count": 15,
   "metadata": {},
   "outputs": [],
   "source": [
    "# 固有値と固有ベクトル"
   ]
  }
 ],
 "metadata": {
  "kernelspec": {
   "display_name": "Python 3",
   "language": "python",
   "name": "python3"
  }
 },
 "nbformat": 4,
 "nbformat_minor": 2
}
