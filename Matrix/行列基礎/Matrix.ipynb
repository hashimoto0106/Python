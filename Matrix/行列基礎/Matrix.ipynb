{
 "cells": [
  {
   "cell_type": "code",
   "execution_count": null,
   "metadata": {},
   "outputs": [],
   "source": [
    "# -*- coding: utf-8 -*-\n",
    "\"\"\"\n",
    "Created on Wed Sep 12 22:25:05 2018\n",
    "\n",
    "@author: hashimoto\n",
    "\"\"\"\n",
    "# https://note.nkmk.me/python-numpy-matrix/\n",
    "\n",
    "import numpy as np"
   ]
  },
  {
   "cell_type": "code",
   "execution_count": null,
   "metadata": {},
   "outputs": [],
   "source": [
    "# 行列の和と差\n",
    "arr1 = np.arange(6).reshape((2, 3))\n",
    "\n",
    "print(arr1)\n",
    "# [[0 1 2]\n",
    "#  [3 4 5]]\n",
    "\n",
    "arr2 = np.arange(0, 12, 2).reshape((2, 3))\n",
    "\n",
    "print(arr2)\n",
    "# [[ 0  2  4]\n",
    "#  [ 6  8 10]]\n",
    "\n",
    "arr_sum = arr1 + arr2\n",
    "\n",
    "print(arr_sum)\n",
    "# [[ 0  3  6]\n",
    "#  [ 9 12 15]]\n",
    "\n",
    "arr_sub = arr1 - arr2\n",
    "\n",
    "print(arr_sub)\n",
    "# [[ 0 -1 -2]\n",
    "#  [-3 -4 -5]]\n",
    "\n",
    "mat1 = np.matrix(arr1)\n",
    "mat2 = np.matrix(arr2)\n",
    "\n",
    "mat_sum = mat1 + mat2\n",
    "\n",
    "print(mat_sum)\n",
    "# [[ 0  3  6]\n",
    "#  [ 9 12 15]]\n",
    "\n",
    "mat_sub = mat1 - mat2\n",
    "\n",
    "print(mat_sub)\n",
    "# [[ 0 -1 -2]\n",
    "#  [-3 -4 -5]]"
   ]
  },
  {
   "cell_type": "code",
   "execution_count": null,
   "metadata": {
    "scrolled": true
   },
   "outputs": [],
   "source": [
    "# スカラー倍\n",
    "arr_mul = arr1 * 2\n",
    "\n",
    "print(arr_mul)\n",
    "# [[ 0  2  4]\n",
    "#  [ 6  8 10]]\n",
    "\n",
    "mat_mul = mat1 * 2\n",
    "\n",
    "print(mat_mul)\n",
    "# [[ 0  2  4]\n",
    "#  [ 6  8 10]]"
   ]
  },
  {
   "cell_type": "code",
   "execution_count": null,
   "metadata": {},
   "outputs": [],
   "source": [
    "# 行列の積\n",
    "mat_mul_matrix = mat1 * mat2\n",
    "\n",
    "print(mat_mul_matrix)"
   ]
  },
  {
   "cell_type": "code",
   "execution_count": null,
   "metadata": {},
   "outputs": [],
   "source": [
    "# 行列の積\n",
    "a = np.array([[1, 2], [3, 4]])\n",
    "b = np.array([[5, 6], [7, 8]])\n",
    "\n",
    "print(a@b)  # 行列積\n",
    "print(np.matmul(a, b))  # 行列積\n",
    "print(a.dot(b))  # 内積\n",
    "print(np.dot(a, b))  #  内積\n"
   ]
  },
  {
   "cell_type": "code",
   "execution_count": null,
   "metadata": {},
   "outputs": [],
   "source": [
    "# 行列とベクトルの積\n",
    "import numpy\n",
    "\n",
    "a = numpy.array([[1, 2], [3, 4]])\n",
    "b = numpy.array([5, 6])\n",
    "\n",
    "print(a@b)\n",
    "print(a.dot(b))\n",
    "print(numpy.dot(a, b))\n",
    "print(numpy.matmul(a, b))\n"
   ]
  },
  {
   "cell_type": "code",
   "execution_count": null,
   "metadata": {},
   "outputs": [],
   "source": [
    "# べき乗"
   ]
  },
  {
   "cell_type": "code",
   "execution_count": null,
   "metadata": {},
   "outputs": [],
   "source": [
    "# 内積\n",
    "arr = np.random.randn(6,3)\n",
    "print(arr)\n",
    "print(arr.T)\n",
    "print(np.dot(arr.T,arr))\n"
   ]
  },
  {
   "cell_type": "code",
   "execution_count": null,
   "metadata": {},
   "outputs": [],
   "source": [
    "# 逆行列"
   ]
  },
  {
   "cell_type": "code",
   "execution_count": null,
   "metadata": {},
   "outputs": [],
   "source": [
    "# 転置\n",
    "arr = np.array([[0,1,2,3,4],[5,6,7,8,9],[10,11,12,13,14]])\n",
    "print(arr)\n",
    "print(arr.T)"
   ]
  },
  {
   "cell_type": "code",
   "execution_count": null,
   "metadata": {},
   "outputs": [],
   "source": [
    "# 行列式"
   ]
  },
  {
   "cell_type": "code",
   "execution_count": null,
   "metadata": {},
   "outputs": [],
   "source": [
    "# 固有値と固有ベクトル"
   ]
  },
  {
   "cell_type": "code",
   "execution_count": null,
   "metadata": {},
   "outputs": [],
   "source": []
  }
 ],
 "metadata": {
  "kernelspec": {
   "display_name": "Python 3",
   "language": "python",
   "name": "python3"
  },
  "language_info": {
   "codemirror_mode": {
    "name": "ipython",
    "version": 3
   },
   "file_extension": ".py",
   "mimetype": "text/x-python",
   "name": "python",
   "nbconvert_exporter": "python",
   "pygments_lexer": "ipython3",
   "version": "3.6.5"
  }
 },
 "nbformat": 4,
 "nbformat_minor": 2
}
