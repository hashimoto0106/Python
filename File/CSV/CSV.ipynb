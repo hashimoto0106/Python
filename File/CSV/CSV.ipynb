{
 "cells": [
  {
   "cell_type": "markdown",
   "metadata": {},
   "source": [
    "# 単純なCSVファイルを読む"
   ]
  },
  {
   "cell_type": "code",
   "execution_count": 4,
   "metadata": {},
   "outputs": [
    {
     "name": "stdout",
     "output_type": "stream",
     "text": [
      "商品名 値段\n",
      "石けん 300\n",
      "手袋 150\n",
      "マスク 230\n"
     ]
    }
   ],
   "source": [
    "import codecs\n",
    "\n",
    "# Shift_JISのCSVファイルを読む\n",
    "filename = \"list-sjis.csv\"\n",
    "csv = codecs.open(filename, \"r\", \"shift_jis\").read()\n",
    "\n",
    "# CSVをPythonのリストに変換する\n",
    "data = []\n",
    "rows = csv.split(\"\\r\\n\")\n",
    "for row in rows:\n",
    "    if row == \"\": continue\n",
    "    cells = row.split(\",\")\n",
    "    data.append(cells)\n",
    "\n",
    "# 変換結果を表示\n",
    "for c in data:\n",
    "    print(c[1], c[2])\n"
   ]
  },
  {
   "cell_type": "markdown",
   "metadata": {},
   "source": [
    "## CSVモジュール"
   ]
  },
  {
   "cell_type": "code",
   "execution_count": 3,
   "metadata": {},
   "outputs": [
    {
     "name": "stdout",
     "output_type": "stream",
     "text": [
      "商品名 値段\n",
      "石けん 300\n",
      "手袋 150\n",
      "マスク 230\n"
     ]
    }
   ],
   "source": [
    "import csv, codecs\n",
    "\n",
    "# CSVファイルを開く\n",
    "filename = \"list-sjis.csv\"\n",
    "fp = codecs.open(filename, \"r\", \"shift_jis\")\n",
    "\n",
    "# 一行ずつ読む\n",
    "reader = csv.reader(fp, delimiter=\",\", quotechar='\"')\n",
    "for cells in reader:\n",
    "    print(cells[1], cells[2])\n"
   ]
  },
  {
   "cell_type": "markdown",
   "metadata": {},
   "source": [
    "## 書き込み"
   ]
  },
  {
   "cell_type": "code",
   "execution_count": 5,
   "metadata": {},
   "outputs": [],
   "source": [
    "import csv, codecs\n",
    "\n",
    "with codecs.open(\"test.csv\", \"w\", \"shift_jis\") as fp:\n",
    "    writer = csv.writer(fp, delimiter=\",\", quotechar='\"')\n",
    "    writer.writerow([\"ID\", \"商品名\", \"値段\"])\n",
    "    writer.writerow([\"1000\", \"SDカード\", 300])\n",
    "    writer.writerow([\"1001\", \"キーボード\", 2100])\n",
    "    writer.writerow([\"1002\", \"マジック(赤,青)\", 150])\n"
   ]
  }
 ],
 "metadata": {
  "kernelspec": {
   "display_name": "Python 3",
   "language": "python",
   "name": "python3"
  },
  "language_info": {
   "codemirror_mode": {
    "name": "ipython",
    "version": 3
   },
   "file_extension": ".py",
   "mimetype": "text/x-python",
   "name": "python",
   "nbconvert_exporter": "python",
   "pygments_lexer": "ipython3",
   "version": "3.6.5"
  }
 },
 "nbformat": 4,
 "nbformat_minor": 1
}
