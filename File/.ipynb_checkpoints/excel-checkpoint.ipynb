{
 "cells": [
  {
   "cell_type": "markdown",
   "metadata": {},
   "source": [
    "# Excelファイルを読む"
   ]
  },
  {
   "cell_type": "code",
   "execution_count": 4,
   "metadata": {},
   "outputs": [
    {
     "name": "stdout",
     "output_type": "stream",
     "text": [
      "1 鳥取県 588667\n",
      "2 島根県 717397\n",
      "3 高知県 764456\n",
      "4 徳島県 785491\n",
      "5 福井県 806314\n"
     ]
    },
    {
     "name": "stderr",
     "output_type": "stream",
     "text": [
      "C:\\ProgramData\\Anaconda3\\lib\\site-packages\\openpyxl\\reader\\worksheet.py:318: UserWarning: Unknown extension is not supported and will be removed\n",
      "  warn(msg)\n"
     ]
    }
   ],
   "source": [
    "import openpyxl \n",
    "\n",
    "# Excelファイルを開く --- (※1)\n",
    "filename = \"population.xlsx\"\n",
    "book = openpyxl.load_workbook(filename)\n",
    "\n",
    "# 先頭のシートを得る --- (※2)\n",
    "sheet = book.worksheets[0]\n",
    "\n",
    "# シートの各行を順に得る --- (※3)\n",
    "data = []\n",
    "for row in sheet.rows:\n",
    "    data.append([\n",
    "        row[0].value,\n",
    "        row[2].value\n",
    "    ])\n",
    "\n",
    "# 先頭行は説明なので捨てる\n",
    "del data[0]\n",
    "\n",
    "# データを人口順に並び替える\n",
    "data = sorted(data, key=lambda x:x[1])\n",
    "\n",
    "# ワースト5を表示\n",
    "for i, a in enumerate(data):\n",
    "    if (i >= 5): break\n",
    "    print(i+1, a[0], int(a[1]))\n"
   ]
  },
  {
   "cell_type": "markdown",
   "metadata": {},
   "source": [
    "## Excelファイルを書き込む"
   ]
  },
  {
   "cell_type": "code",
   "execution_count": 5,
   "metadata": {},
   "outputs": [
    {
     "name": "stdout",
     "output_type": "stream",
     "text": [
      "total= 128057352\n",
      "ok\n"
     ]
    },
    {
     "name": "stderr",
     "output_type": "stream",
     "text": [
      "C:\\ProgramData\\Anaconda3\\lib\\site-packages\\openpyxl\\reader\\worksheet.py:318: UserWarning: Unknown extension is not supported and will be removed\n",
      "  warn(msg)\n"
     ]
    }
   ],
   "source": [
    "import openpyxl \n",
    "\n",
    "# Excelファイルを開く --- (※1)\n",
    "filename = \"population.xlsx\"\n",
    "book = openpyxl.load_workbook(filename)\n",
    "\n",
    "# アクティブになっているシートを得る --- (※2)\n",
    "sheet = book.active\n",
    "\n",
    "# 人口のトータルを計算する --- (※3)\n",
    "total = 0\n",
    "for i, row in enumerate(sheet.rows):\n",
    "    if i == 0: continue # 先頭はヘッダ\n",
    "    po = int(row[2].value)\n",
    "    total += po\n",
    "print(\"total=\", total)\n",
    "\n",
    "# 書き込む --- (※4)\n",
    "sheet['A49'] = \"Total\"\n",
    "sheet['C49'] = total\n",
    "\n",
    "# フォントなどの設定を変更する --- (※5)\n",
    "c = sheet['C49']\n",
    "c.font = openpyxl.styles.Font(size=14,color=\"FF0000\")\n",
    "c.number_format = sheet['C48'].number_format\n",
    "\n",
    "# 書き込んだ内容をファイルへ保存 --- (※6)\n",
    "filename = \"population-total.xlsx\"\n",
    "book.save(filename)\n",
    "print(\"ok\")\n"
   ]
  },
  {
   "cell_type": "code",
   "execution_count": null,
   "metadata": {},
   "outputs": [],
   "source": []
  }
 ],
 "metadata": {
  "kernelspec": {
   "display_name": "Python 3",
   "language": "python",
   "name": "python3"
  },
  "language_info": {
   "codemirror_mode": {
    "name": "ipython",
    "version": 3
   },
   "file_extension": ".py",
   "mimetype": "text/x-python",
   "name": "python",
   "nbconvert_exporter": "python",
   "pygments_lexer": "ipython3",
   "version": "3.6.5"
  }
 },
 "nbformat": 4,
 "nbformat_minor": 1
}
