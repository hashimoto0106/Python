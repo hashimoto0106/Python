{
 "cells": [
  {
   "cell_type": "markdown",
   "metadata": {},
   "source": [
    "# File Information"
   ]
  },
  {
   "cell_type": "code",
   "execution_count": 1,
   "metadata": {},
   "outputs": [],
   "source": [
    "import os\n",
    "import datetime"
   ]
  },
  {
   "cell_type": "markdown",
   "metadata": {},
   "source": [
    "## ファイル更新日時情報取得"
   ]
  },
  {
   "cell_type": "code",
   "execution_count": 2,
   "metadata": {},
   "outputs": [
    {
     "name": "stdout",
     "output_type": "stream",
     "text": [
      "os.stat_result(st_mode=33206, st_ino=1125899906855724, st_dev=3629892551, st_nlink=1, st_uid=0, st_gid=0, st_size=402, st_atime=1545487635, st_mtime=1530940794, st_ctime=1540385664)\n",
      "1530940794.3822255\n",
      "2018-07-07 14:19:54\n"
     ]
    }
   ],
   "source": [
    "import os\n",
    "\n",
    "fpath = 'test.py'\n",
    "stat = os.stat(fpath)\n",
    "print(stat)\n",
    "\n",
    "uptime = stat.st_mtime\n",
    "print(uptime)\n",
    "\n",
    "dt = datetime.datetime.fromtimestamp(uptime)\n",
    "print(dt.strftime(\"%Y-%m-%d %H:%M:%S\")) "
   ]
  },
  {
   "cell_type": "markdown",
   "metadata": {},
   "source": [
    "## ファイルリネーム"
   ]
  },
  {
   "cell_type": "code",
   "execution_count": 20,
   "metadata": {},
   "outputs": [],
   "source": [
    "import datetime\n",
    "import shutil\n",
    "import os\n",
    "\n",
    "now = datetime.datetime.now()\n",
    "#現在時刻を織り込んだファイル名を生成\n",
    "fmt_name = \"hoge_{0:%Y%m%d-%H%M%S}.txt\".format(now)\n",
    "with open(fmt_name, \"w\") as f:\n",
    "    f.write(\"汝、今何時？\")\n",
    "#テスト用に日付のないファイルを作成\n",
    "plain_name = \"fuga.piyo.txt\" \n",
    "shutil.copy(fmt_name, plain_name)\n",
    "#現在時刻を拡張子の直前に追加\n",
    "ss = plain_name.split(\".\", 1)\n",
    "new_name = \"{0}_{1:%Y%m%d-%H%M%S}.{2}\".format(ss[0], now, ss[1])\n",
    "#既存のファイルをリネーム\n",
    "os.rename(plain_name, new_name) "
   ]
  },
  {
   "cell_type": "code",
   "execution_count": 21,
   "metadata": {},
   "outputs": [],
   "source": [
    "import os\n",
    "\n",
    "copy = './rename.txt'\n",
    "dest = \"./rename1.txt\"\n",
    "os.rename(copy,dest)"
   ]
  },
  {
   "cell_type": "code",
   "execution_count": null,
   "metadata": {},
   "outputs": [],
   "source": [
    "import shutil\n",
    "\n",
    "src = './rename1.txt'\n",
    "dest = \"./rename.txt\"\n",
    "shutil.copy(src,dest)"
   ]
  },
  {
   "cell_type": "markdown",
   "metadata": {},
   "source": [
    "## ファイルの存在を確認"
   ]
  },
  {
   "cell_type": "code",
   "execution_count": 17,
   "metadata": {},
   "outputs": [
    {
     "name": "stdout",
     "output_type": "stream",
     "text": [
      "read.txt\n"
     ]
    }
   ],
   "source": [
    "import os\n",
    "\n",
    "src = './read.txt'\n",
    "if os.path.isfile(src):\n",
    "    print(\"read.txt\")"
   ]
  },
  {
   "cell_type": "markdown",
   "metadata": {},
   "source": [
    "## ファイルをコピー"
   ]
  },
  {
   "cell_type": "code",
   "execution_count": 19,
   "metadata": {},
   "outputs": [
    {
     "data": {
      "text/plain": [
       "'./copy.txt'"
      ]
     },
     "execution_count": 19,
     "metadata": {},
     "output_type": "execute_result"
    }
   ],
   "source": [
    "import shutil\n",
    "\n",
    "src = './read.txt'\n",
    "copy = './copy.txt'\n",
    "shutil.copyfile(src,copy)"
   ]
  },
  {
   "cell_type": "code",
   "execution_count": null,
   "metadata": {},
   "outputs": [],
   "source": []
  }
 ],
 "metadata": {
  "kernelspec": {
   "display_name": "Python 3",
   "language": "python",
   "name": "python3"
  },
  "language_info": {
   "codemirror_mode": {
    "name": "ipython",
    "version": 3
   },
   "file_extension": ".py",
   "mimetype": "text/x-python",
   "name": "python",
   "nbconvert_exporter": "python",
   "pygments_lexer": "ipython3",
   "version": "3.6.5"
  }
 },
 "nbformat": 4,
 "nbformat_minor": 1
}
